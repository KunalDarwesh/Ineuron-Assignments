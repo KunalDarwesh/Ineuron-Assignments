{
  "nbformat": 4,
  "nbformat_minor": 0,
  "metadata": {
    "colab": {
      "name": "PythonProgrammingBasicAssignment_1.ipynb",
      "provenance": [],
      "collapsed_sections": []
    },
    "kernelspec": {
      "name": "python3",
      "display_name": "Python 3"
    },
    "language_info": {
      "name": "python"
    }
  },
  "cells": [
    {
      "cell_type": "markdown",
      "metadata": {
        "id": "XJIPDVQof9z6"
      },
      "source": [
        "1. Write a Python program to print &quot;Hello Python&quot;?\n"
      ]
    },
    {
      "cell_type": "code",
      "metadata": {
        "colab": {
          "base_uri": "https://localhost:8080/"
        },
        "id": "1i33_s9bf80K",
        "outputId": "a885627b-6956-4521-f618-3bceb8b808d9"
      },
      "source": [
        "s=\"Hello Python\"\n",
        "print(s)"
      ],
      "execution_count": 1,
      "outputs": [
        {
          "output_type": "stream",
          "text": [
            "Hello Python\n"
          ],
          "name": "stdout"
        }
      ]
    },
    {
      "cell_type": "markdown",
      "metadata": {
        "id": "QvWDUtvRf9eR"
      },
      "source": [
        "2. Write a Python program to do arithmetical operations addition and division.?\n"
      ]
    },
    {
      "cell_type": "code",
      "metadata": {
        "colab": {
          "base_uri": "https://localhost:8080/"
        },
        "id": "_Xbq0NaHf6XH",
        "outputId": "eaf20ab1-11c6-4fae-8706-9bcac433671e"
      },
      "source": [
        "var1=int(input(\"Enter the first no.:\"))\n",
        "var2=int(input(\"Enter the Second no.:\"))\n",
        "ch=int(input((\"Enter Your Choice:\\n1)Addition\\n2)Subtraction\\n3)Multiplication\\n4)Division\\n5)All\\n\")))\n",
        "\n",
        "def Addition(var1,var2):\n",
        "  addition = var1+var2\n",
        "  print(\"Addition of {} and {} is {}\".format(var1,var2,addition))\n",
        "\n",
        "def Subtraction(var1,var2):\n",
        "  subtraction=var1 - var2\n",
        "  print(\"Subtraction of {} and {} is {}\".format(var1,var2,subtraction))\n",
        "\n",
        "def Multiplication(var1,var2):\n",
        "  multiplication=var1 * var2\n",
        "  print(\"Multiplication of {} and {} is {}\".format(var1,var2,multiplication))\n",
        "\n",
        "def Division(var1,var2):\n",
        "  division=var1/var2\n",
        "  print(\"Division of {} and {} is {}\".format(var1,var2,division))\n",
        "\n",
        "if (ch==1):\n",
        "  Addition(var1,var2)\n",
        "elif (ch==2):\n",
        "  Subtraction(var1,var2)\n",
        "elif (ch==3):\n",
        "  Multiplication(var1,var2)\n",
        "elif (ch==4):\n",
        "  Division(var1,var2)\n",
        "elif (ch==5): \n",
        "  Addition(var1,var2)\n",
        "  Subtraction(var1,var2)\n",
        "  Multiplication(var1,var2)\n",
        "  Division(var1,var2)\n",
        "else:\n",
        "  print(\"!!!!!Invalid Entry!!!!!\")\n"
      ],
      "execution_count": 30,
      "outputs": [
        {
          "output_type": "stream",
          "text": [
            "Enter the first no.:12\n",
            "Enter the Second no.:4\n",
            "Enter Your Choice:\n",
            "1)Addition\n",
            "2)Subtraction\n",
            "3)Multiplication\n",
            "4)Division\n",
            "5)All\n",
            "5\n",
            "Addition of 12 and 4 is 16\n",
            "Subtraction of 12 and 4 is 8\n",
            "Multiplication of 12 and 4 is 48\n",
            "Division of 12 and 4 is 3.0\n"
          ],
          "name": "stdout"
        }
      ]
    },
    {
      "cell_type": "markdown",
      "metadata": {
        "id": "0NYYRVOxf69O"
      },
      "source": [
        "3. Write a Python program to find the area of a triangle?\n"
      ]
    },
    {
      "cell_type": "code",
      "metadata": {
        "colab": {
          "base_uri": "https://localhost:8080/"
        },
        "id": "n2DglCYwf6Rt",
        "outputId": "64cc811d-c300-42d6-efd4-386fbe82e56e"
      },
      "source": [
        "# Three sides of the triangle is a, b and c:  \n",
        "print(\"Find Area of Triangle for\\n\")\n",
        "ch=int(input((\"1)Acute Triangle\\n2)Equilateral Triangle\\n3)Isosceles triangle \\n4)Triangle with Given sides\\n5)All\\nEnter Your Choice:\\n\")))\n",
        "\n",
        "def ThreeSided():\n",
        "  a = float(input('Enter first side: '))  \n",
        "  b = float(input('Enter second side: '))  \n",
        "  c = float(input('Enter third side: '))  \n",
        "  s = (a + b + c) / 2  \n",
        "  area = (s*(s-a)*(s-b)*(s-c)) ** 0.5  \n",
        "  print('The area of the ThreeSidedTriangle is {}'.format(area))  \n",
        "\n",
        "def AcuteTriangle():\n",
        "  b = int(input(\"Enter the base : \"))\n",
        "  h = int(input(\"Enter the height : \"))\n",
        "  area = b*h/2\n",
        "  print(\"area of AcuteTriangle= \", area)\n",
        "\n",
        "def EquiTriangle():\n",
        "  s=int(input(\"Enter the Side of Equilateral triangle:\"))\n",
        "  area=(3**0.5)*(s**2)/4\n",
        "  print(\"area of Equilateral triangle= \", area)\n",
        "\n",
        "#A = 1/4 x b√4a2−b2 \n",
        "def IsoscelesTriangle():\n",
        "  b = int(input(\"Enter the base : \"))\n",
        "  a = int(input(\"Enter measure of equal side:\"))\n",
        "  area=b*(((4*(a**2))-(b**2))**0.5)/4\n",
        "  print(\"area of Isosceles triangle= \", area)\n",
        "\n",
        "\n",
        "\n",
        "if (ch==1):\n",
        "  AcuteTriangle()\n",
        "elif (ch==2):\n",
        "  EquiTriangle()\n",
        "elif (ch==3):\n",
        "  IsoscelesTriangle()\n",
        "elif (ch==4):\n",
        "  ThreeSided()\n",
        "elif (ch==5):\n",
        "  AcuteTriangle()\n",
        "  EquiTriangle()\n",
        "  IsoscelesTriangle()\n",
        "  ThreeSided()   \n",
        "else:\n",
        "  print(\"!!!!!Invalid Entry!!!!!\")"
      ],
      "execution_count": 38,
      "outputs": [
        {
          "output_type": "stream",
          "text": [
            "Find Area of Triangle for\n",
            "\n",
            "1)Acute Triangle\n",
            "2)Equilateral Triangle\n",
            "3)Isosceles triangle \n",
            "4)Triangle with Given sides\n",
            "5)All\n",
            "Enter Your Choice:\n",
            "5\n",
            "Enter the base : 3\n",
            "Enter the height : 4\n",
            "area of AcuteTriangle=  6.0\n",
            "Enter the Side of Equilateral triangle:3\n",
            "area of Equilateral triangle=  3.8971143170299736\n",
            "Enter the base : 3\n",
            "Enter measure of equal side:4\n",
            "area of Isosceles triangle=  5.562148865321747\n",
            "Enter first side: 1\n",
            "Enter second side: 2\n",
            "Enter third side: 3\n",
            "The area of the ThreeSidedTriangle is 0.0\n"
          ],
          "name": "stdout"
        }
      ]
    },
    {
      "cell_type": "markdown",
      "metadata": {
        "id": "1RlayrcGf7ha"
      },
      "source": [
        "4. Write a Python program to swap two variables?\n"
      ]
    },
    {
      "cell_type": "code",
      "metadata": {
        "colab": {
          "base_uri": "https://localhost:8080/"
        },
        "id": "tCWzJqBhf56F",
        "outputId": "976a8218-c919-42c3-eb7e-04018f2e670c"
      },
      "source": [
        "var1=int(input(\"Enter the first no.:\"))\n",
        "var2=int(input(\"Enter the Second no.:\"))\n",
        "print(\"Before Swapping var1 is {} and var2 is {}\".format(var1,var2))\n",
        "temp=var1\n",
        "var1=var2\n",
        "var2=temp\n",
        "print(\"After Swapping var1 is {} and var2 is {}\".format(var1,var2))"
      ],
      "execution_count": 29,
      "outputs": [
        {
          "output_type": "stream",
          "text": [
            "Enter the first no.:12\n",
            "Enter the Second no.:4\n",
            "Before Swapping var1 is 12 and var2 is 4\n",
            "After Swapping var1 is 4 and var2 is 12\n"
          ],
          "name": "stdout"
        }
      ]
    },
    {
      "cell_type": "markdown",
      "metadata": {
        "id": "L53iIWJff8Jg"
      },
      "source": [
        "5. Write a Python program to generate a random number?"
      ]
    },
    {
      "cell_type": "code",
      "metadata": {
        "colab": {
          "base_uri": "https://localhost:8080/"
        },
        "id": "gMK2Tt3cfobZ",
        "outputId": "cbf19f37-c1cb-4f9b-8b35-2a83f41c8b48"
      },
      "source": [
        "import random\n",
        "ran1=int(input(\"Enter First Limit:\"))\n",
        "ran2=int(input(\"Enter Second Limit:\"))\n",
        "print(\"The random number from {} to {} is {}\".format(ran1,ran2,random.randint(ran1,ran2)))\n",
        "\n"
      ],
      "execution_count": 41,
      "outputs": [
        {
          "output_type": "stream",
          "text": [
            "Enter First Limit:0\n",
            "Enter Second Limit:9\n",
            "The random number from 0 to 9 is 5\n"
          ],
          "name": "stdout"
        }
      ]
    }
  ]
}