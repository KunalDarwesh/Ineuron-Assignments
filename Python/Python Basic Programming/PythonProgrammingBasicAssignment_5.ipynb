{
  "nbformat": 4,
  "nbformat_minor": 0,
  "metadata": {
    "colab": {
      "name": "PythonProgrammingBasicAssignment_5.ipynb",
      "provenance": [],
      "collapsed_sections": []
    },
    "kernelspec": {
      "name": "python3",
      "display_name": "Python 3"
    },
    "language_info": {
      "name": "python"
    }
  },
  "cells": [
    {
      "cell_type": "markdown",
      "metadata": {
        "id": "HlEustAa092z"
      },
      "source": [
        "1. Write a Python Program to Find LCM?\n"
      ]
    },
    {
      "cell_type": "code",
      "metadata": {
        "id": "tbWFK-gi2pYM",
        "colab": {
          "base_uri": "https://localhost:8080/"
        },
        "outputId": "fba6881c-1a78-48d6-f3ce-0654dd692183"
      },
      "source": [
        "def calc_lcm(a, b):\n",
        "\n",
        "   # choose the greater number\n",
        "   if a > b:\n",
        "       greater = a\n",
        "   else:\n",
        "       greater = b\n",
        "\n",
        "   while(True):\n",
        "       if((greater % a == 0) and (greater % b == 0)):\n",
        "           lcm = greater\n",
        "           break\n",
        "       greater += 1\n",
        "\n",
        "   return lcm\n",
        "\n",
        "num1 = int(input(\"Enter the first number:\"))\n",
        "num2 = int(input(\"Enter the Second number:\"))\n",
        "\n",
        "print(\"The L.C.M. of {} and {} is {}\".format(num1,num2,calc_lcm(num1, num2)) )"
      ],
      "execution_count": 17,
      "outputs": [
        {
          "output_type": "stream",
          "text": [
            "Enter the first number:54\n",
            "Enter the Second number:24\n",
            "The L.C.M. of 54 and 24 is 216\n"
          ],
          "name": "stdout"
        }
      ]
    },
    {
      "cell_type": "markdown",
      "metadata": {
        "id": "nsemM1ne2r0x"
      },
      "source": [
        "2. Write a Python Program to Find HCF?\n"
      ]
    },
    {
      "cell_type": "code",
      "metadata": {
        "id": "Ml11f_o02qBS",
        "colab": {
          "base_uri": "https://localhost:8080/"
        },
        "outputId": "8ddf842d-f734-4b48-f73c-726b7188cfd2"
      },
      "source": [
        "def calc_hcf(x, y):\n",
        "\n",
        "# choose the smaller number\n",
        "    if x > y:\n",
        "        smaller = y\n",
        "    else:\n",
        "        smaller = x\n",
        "    for i in range(1, smaller+1):\n",
        "        if((x % i == 0) and (y % i == 0)):\n",
        "            hcf = i \n",
        "    return hcf\n",
        "\n",
        "num1 = int(input(\"Enter the first number:\"))\n",
        "num2 = int(input(\"Enter the Second number:\"))\n",
        "\n",
        "print(\"The L.C.M. of {} and {} is {}\".format(num1,num2,calc_hcf(num1, num2)) )"
      ],
      "execution_count": 18,
      "outputs": [
        {
          "output_type": "stream",
          "text": [
            "Enter the first number:54\n",
            "Enter the Second number:24\n",
            "The L.C.M. of 54 and 24 is 6\n"
          ],
          "name": "stdout"
        }
      ]
    },
    {
      "cell_type": "markdown",
      "metadata": {
        "id": "Sw2EnVfX2xN9"
      },
      "source": [
        "3. Write a Python Program to Convert Decimal to Binary, Octal and Hexadecimal?\n"
      ]
    },
    {
      "cell_type": "code",
      "metadata": {
        "id": "EMYkIUsp2pz-",
        "colab": {
          "base_uri": "https://localhost:8080/",
          "height": 103
        },
        "outputId": "218f2566-f372-4302-8db1-13ca6c0d3443"
      },
      "source": [
        "# Python program to convert decimal into other number systems\n",
        "\n",
        "def decimalToBinary(x):\n",
        "  binary=bin(x)\n",
        "  print(\"Binary conversion of decimal {} is {}\".format(x,binary))\n",
        "\n",
        "def octalToHexa(x):\n",
        "  octal=oct(x)\n",
        "  hexa=hex(x)\n",
        "  print(\"Hexadecimal conversion of octal {} is {}\".format(octal,hexa))  \n",
        "\n",
        "x=int(input(\"Enter Decimal No.:\"))\n",
        "decimalToBinary(x)\n",
        "octalToHexa(x)\n"
      ],
      "execution_count": 15,
      "outputs": [
        {
          "output_type": "stream",
          "text": [
            "Enter Decimal No.:10\n",
            "Binary conversion of decimal 10 is 0b1010\n",
            "Hexadecimal conversion of octal 0o12 is 0xa\n"
          ],
          "name": "stdout"
        },
        {
          "output_type": "execute_result",
          "data": {
            "application/vnd.google.colaboratory.intrinsic+json": {
              "type": "string"
            },
            "text/plain": [
              "'\\ndef octalToBinary(x):\\n\\n\\ndec = 344\\n\\nprint(\"The decimal value of\", dec, \"is:\")\\nprint(bin(dec), \"in binary.\")\\nprint(oct(dec), \"in octal.\")\\nprint(hex(dec), \"in hexadecimal.\")'"
            ]
          },
          "metadata": {
            "tags": []
          },
          "execution_count": 15
        }
      ]
    },
    {
      "cell_type": "markdown",
      "metadata": {
        "id": "Z78F134420Tf"
      },
      "source": [
        "4. Write a Python Program To Find ASCII value of a character?\n"
      ]
    },
    {
      "cell_type": "code",
      "metadata": {
        "id": "aPPZXD_O2pj4",
        "colab": {
          "base_uri": "https://localhost:8080/"
        },
        "outputId": "c6ad2335-c34a-4a44-f7e9-5a90ec5861b4"
      },
      "source": [
        "str1=input(\"Enter the character:\")\n",
        "print(\"The ASCII value of \" + str1 + \" is\", ord(str1))"
      ],
      "execution_count": 2,
      "outputs": [
        {
          "output_type": "stream",
          "text": [
            "Enter the character:q\n",
            "The ASCII value of q is 113\n"
          ],
          "name": "stdout"
        }
      ]
    },
    {
      "cell_type": "markdown",
      "metadata": {
        "id": "GUObgqbg22jf"
      },
      "source": [
        "5. Write a Python Program to Make a Simple Calculator with 4 basic mathematical operations?"
      ]
    },
    {
      "cell_type": "code",
      "metadata": {
        "id": "6DvV5h1E0xqs",
        "colab": {
          "base_uri": "https://localhost:8080/"
        },
        "outputId": "34b366ee-4161-4c1f-8018-63491147ae30"
      },
      "source": [
        "var1=int(input(\"Enter the first no.:\"))\n",
        "var2=int(input(\"Enter the Second no.:\"))\n",
        "ch=int(input((\"Enter Your Choice:\\n1)Addition\\n2)Subtraction\\n3)Multiplication\\n4)Division\\n5)All\\n\")))\n",
        "\n",
        "def Addition(var1,var2):\n",
        "  addition = var1+var2\n",
        "  print(\"Addition of {} and {} is {}\".format(var1,var2,addition))\n",
        "\n",
        "def Subtraction(var1,var2):\n",
        "  subtraction=var1 - var2\n",
        "  print(\"Subtraction of {} and {} is {}\".format(var1,var2,subtraction))\n",
        "\n",
        "def Multiplication(var1,var2):\n",
        "  multiplication=var1 * var2\n",
        "  print(\"Multiplication of {} and {} is {}\".format(var1,var2,multiplication))\n",
        "\n",
        "def Division(var1,var2):\n",
        "  division=var1/var2\n",
        "  print(\"Division of {} and {} is {}\".format(var1,var2,division))\n",
        "\n",
        "if (ch==1):\n",
        "  Addition(var1,var2)\n",
        "elif (ch==2):\n",
        "  Subtraction(var1,var2)\n",
        "elif (ch==3):\n",
        "  Multiplication(var1,var2)\n",
        "elif (ch==4):\n",
        "  Division(var1,var2)\n",
        "elif (ch==5): \n",
        "  Addition(var1,var2)\n",
        "  Subtraction(var1,var2)\n",
        "  Multiplication(var1,var2)\n",
        "  Division(var1,var2)\n",
        "else:\n",
        "  print(\"!!!!!Invalid Entry!!!!!\")\n"
      ],
      "execution_count": 1,
      "outputs": [
        {
          "output_type": "stream",
          "text": [
            "Enter the first no.:30\n",
            "Enter the Second no.:15\n",
            "Enter Your Choice:\n",
            "1)Addition\n",
            "2)Subtraction\n",
            "3)Multiplication\n",
            "4)Division\n",
            "5)All\n",
            "5\n",
            "Addition of 30 and 15 is 45\n",
            "Subtraction of 30 and 15 is 15\n",
            "Multiplication of 30 and 15 is 450\n",
            "Division of 30 and 15 is 2.0\n"
          ],
          "name": "stdout"
        }
      ]
    }
  ]
}