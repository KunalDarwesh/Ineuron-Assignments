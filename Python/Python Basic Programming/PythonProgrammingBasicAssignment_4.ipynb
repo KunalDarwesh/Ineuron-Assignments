{
  "nbformat": 4,
  "nbformat_minor": 0,
  "metadata": {
    "colab": {
      "name": "PythonProgrammingBasicAssignment_4.ipynb",
      "provenance": [],
      "collapsed_sections": []
    },
    "kernelspec": {
      "name": "python3",
      "display_name": "Python 3"
    },
    "language_info": {
      "name": "python"
    }
  },
  "cells": [
    {
      "cell_type": "markdown",
      "metadata": {
        "id": "KAVePWIj0bI4"
      },
      "source": [
        "1. Write a Python Program to Find the Factorial of a Number?\n"
      ]
    },
    {
      "cell_type": "code",
      "metadata": {
        "colab": {
          "base_uri": "https://localhost:8080/"
        },
        "id": "T2msqeD_0Z13",
        "outputId": "aed88901-b24f-4ff8-8dba-fc7542caf1ad"
      },
      "source": [
        "lst = []  \n",
        "n = int(input(\"Enter number of elements : \"))\n",
        "for i in range(0, n):\n",
        "    ele = int(input())\n",
        "    lst.append(ele) # adding the element\n",
        "      \n",
        "print(lst)\n",
        "\n",
        "def calcFactorial(num):\n",
        "  factorial = 1\n",
        "  # check if the number is negative, positive or zero\n",
        "  if num < 0:\n",
        "    print(\"Sorry, factorial does not exist for negative numbers\")\n",
        "  elif num == 0:\n",
        "    print(\"The factorial of 0 is 1\")\n",
        "  else:\n",
        "    for i in range(1,num + 1):\n",
        "      factorial = factorial*i\n",
        "    print(\"The factorial of\",num,\"is\",factorial)\n",
        "\n",
        "for num in lst:\n",
        "  calcFactorial(num)"
      ],
      "execution_count": null,
      "outputs": [
        {
          "output_type": "stream",
          "text": [
            "Enter number of elements : 4\n",
            "1\n",
            "2\n",
            "0\n",
            "7\n",
            "[1, 2, 0, 7]\n",
            "The factorial of 1 is 1\n",
            "The factorial of 2 is 2\n",
            "The factorial of 0 is 1\n",
            "The factorial of 7 is 5040\n"
          ],
          "name": "stdout"
        }
      ]
    },
    {
      "cell_type": "markdown",
      "metadata": {
        "id": "K9-OJtfW2KKd"
      },
      "source": [
        "2. Write a Python Program to Display the multiplication Table?\n"
      ]
    },
    {
      "cell_type": "code",
      "metadata": {
        "colab": {
          "base_uri": "https://localhost:8080/"
        },
        "id": "VLrXGlC-2I0b",
        "outputId": "c2194940-b77b-45f4-fd91-8a381707b353"
      },
      "source": [
        "lower = int(input(\"Enter lower limit : \"))\n",
        "upper = int(input(\"Enter upper limit : \"))\n",
        "\n",
        "print(\"Multiplication Table between\", lower, \"and\", upper, \"are:\")\n",
        "\n",
        "\n",
        "for num in range(lower, upper + 1):\n",
        "  # Iterate 10 times from i = 1 to 10\n",
        "  for i in range(1, 11):\n",
        "    print(num, 'x', i, '=', num*i,)\n",
        "  print('\\n')"
      ],
      "execution_count": null,
      "outputs": [
        {
          "output_type": "stream",
          "text": [
            "Enter lower limit : 1\n",
            "Enter upper limit : 10\n",
            "Multiplication Table between 1 and 10 are:\n",
            "1 x 1 = 1\n",
            "1 x 2 = 2\n",
            "1 x 3 = 3\n",
            "1 x 4 = 4\n",
            "1 x 5 = 5\n",
            "1 x 6 = 6\n",
            "1 x 7 = 7\n",
            "1 x 8 = 8\n",
            "1 x 9 = 9\n",
            "1 x 10 = 10\n",
            "\n",
            "\n",
            "2 x 1 = 2\n",
            "2 x 2 = 4\n",
            "2 x 3 = 6\n",
            "2 x 4 = 8\n",
            "2 x 5 = 10\n",
            "2 x 6 = 12\n",
            "2 x 7 = 14\n",
            "2 x 8 = 16\n",
            "2 x 9 = 18\n",
            "2 x 10 = 20\n",
            "\n",
            "\n",
            "3 x 1 = 3\n",
            "3 x 2 = 6\n",
            "3 x 3 = 9\n",
            "3 x 4 = 12\n",
            "3 x 5 = 15\n",
            "3 x 6 = 18\n",
            "3 x 7 = 21\n",
            "3 x 8 = 24\n",
            "3 x 9 = 27\n",
            "3 x 10 = 30\n",
            "\n",
            "\n",
            "4 x 1 = 4\n",
            "4 x 2 = 8\n",
            "4 x 3 = 12\n",
            "4 x 4 = 16\n",
            "4 x 5 = 20\n",
            "4 x 6 = 24\n",
            "4 x 7 = 28\n",
            "4 x 8 = 32\n",
            "4 x 9 = 36\n",
            "4 x 10 = 40\n",
            "\n",
            "\n",
            "5 x 1 = 5\n",
            "5 x 2 = 10\n",
            "5 x 3 = 15\n",
            "5 x 4 = 20\n",
            "5 x 5 = 25\n",
            "5 x 6 = 30\n",
            "5 x 7 = 35\n",
            "5 x 8 = 40\n",
            "5 x 9 = 45\n",
            "5 x 10 = 50\n",
            "\n",
            "\n",
            "6 x 1 = 6\n",
            "6 x 2 = 12\n",
            "6 x 3 = 18\n",
            "6 x 4 = 24\n",
            "6 x 5 = 30\n",
            "6 x 6 = 36\n",
            "6 x 7 = 42\n",
            "6 x 8 = 48\n",
            "6 x 9 = 54\n",
            "6 x 10 = 60\n",
            "\n",
            "\n",
            "7 x 1 = 7\n",
            "7 x 2 = 14\n",
            "7 x 3 = 21\n",
            "7 x 4 = 28\n",
            "7 x 5 = 35\n",
            "7 x 6 = 42\n",
            "7 x 7 = 49\n",
            "7 x 8 = 56\n",
            "7 x 9 = 63\n",
            "7 x 10 = 70\n",
            "\n",
            "\n",
            "8 x 1 = 8\n",
            "8 x 2 = 16\n",
            "8 x 3 = 24\n",
            "8 x 4 = 32\n",
            "8 x 5 = 40\n",
            "8 x 6 = 48\n",
            "8 x 7 = 56\n",
            "8 x 8 = 64\n",
            "8 x 9 = 72\n",
            "8 x 10 = 80\n",
            "\n",
            "\n",
            "9 x 1 = 9\n",
            "9 x 2 = 18\n",
            "9 x 3 = 27\n",
            "9 x 4 = 36\n",
            "9 x 5 = 45\n",
            "9 x 6 = 54\n",
            "9 x 7 = 63\n",
            "9 x 8 = 72\n",
            "9 x 9 = 81\n",
            "9 x 10 = 90\n",
            "\n",
            "\n",
            "10 x 1 = 10\n",
            "10 x 2 = 20\n",
            "10 x 3 = 30\n",
            "10 x 4 = 40\n",
            "10 x 5 = 50\n",
            "10 x 6 = 60\n",
            "10 x 7 = 70\n",
            "10 x 8 = 80\n",
            "10 x 9 = 90\n",
            "10 x 10 = 100\n",
            "\n",
            "\n"
          ],
          "name": "stdout"
        }
      ]
    },
    {
      "cell_type": "markdown",
      "metadata": {
        "id": "vPA-EBkI2Nl2"
      },
      "source": [
        "3. Write a Python Program to Print the Fibonacci sequence?\n"
      ]
    },
    {
      "cell_type": "code",
      "metadata": {
        "colab": {
          "base_uri": "https://localhost:8080/"
        },
        "id": "-ZETvr0z2Itk",
        "outputId": "c2e320f5-8d4b-4784-f84f-d43ec9259897"
      },
      "source": [
        "terms = int(input(\"Enter the no. of terms for Fibonacci sequence? \"))\n",
        "\n",
        "# first two terms\n",
        "n1, n2 = 0, 1\n",
        "count = 0\n",
        "\n",
        "# check if the number of terms is valid\n",
        "if terms <= 0:\n",
        "   print(\"Please enter a positive integer\")\n",
        "elif terms == 1:\n",
        "   print(\"Fibonacci sequence upto\",terms,\":\")\n",
        "   print(n1)\n",
        "else:\n",
        "   print(\"Fibonacci sequence:\")\n",
        "   while count < terms:\n",
        "       print(n1)\n",
        "       nth = n1 + n2\n",
        "       # update values\n",
        "       n1 = n2\n",
        "       n2 = nth\n",
        "       count += 1"
      ],
      "execution_count": null,
      "outputs": [
        {
          "output_type": "stream",
          "text": [
            "Enter the no. of terms for Fibonacci sequence? 8\n",
            "Fibonacci sequence:\n",
            "0\n",
            "1\n",
            "1\n",
            "2\n",
            "3\n",
            "5\n",
            "8\n",
            "13\n"
          ],
          "name": "stdout"
        }
      ]
    },
    {
      "cell_type": "markdown",
      "metadata": {
        "id": "TjCKrEJV2Qhn"
      },
      "source": [
        "4. Write a Python Program to Check Armstrong Number?\n"
      ]
    },
    {
      "cell_type": "code",
      "metadata": {
        "id": "nS09UnTP2Iox",
        "colab": {
          "base_uri": "https://localhost:8080/"
        },
        "outputId": "d764eacc-7cfd-4484-c220-c15ad3f9f7b1"
      },
      "source": [
        "lst = []  \n",
        "n = int(input(\"Enter number of elements : \"))\n",
        "for i in range(0, n):\n",
        "    ele = int(input())\n",
        "    lst.append(ele) # adding the element\n",
        "      \n",
        "print(lst)\n",
        "\n",
        "def checkArmstrong(num):\n",
        "  # initialize sum\n",
        "  sum = 0\n",
        "\n",
        "  # find the sum of the cube of each digit\n",
        "  temp = num\n",
        "  while temp > 0:\n",
        "    digit = temp % 10\n",
        "    sum += digit ** 3\n",
        "    temp //= 10\n",
        "\n",
        "  # display the result\n",
        "  if num == sum:\n",
        "    print(num,\"is an Armstrong number\")\n",
        "  else:\n",
        "    print(num,\"is not an Armstrong number\")\n",
        "\n",
        "for num in lst:\n",
        "  checkArmstrong(num)"
      ],
      "execution_count": 2,
      "outputs": [
        {
          "output_type": "stream",
          "text": [
            "Enter number of elements : 4\n",
            "153\n",
            "407\n",
            "371\n",
            "441\n",
            "[153, 407, 371, 441]\n",
            "153 is an Armstrong number\n",
            "407 is an Armstrong number\n",
            "371 is an Armstrong number\n",
            "441 is not an Armstrong number\n"
          ],
          "name": "stdout"
        }
      ]
    },
    {
      "cell_type": "markdown",
      "metadata": {
        "id": "GxEKd53J2UGA"
      },
      "source": [
        "5. Write a Python Program to Find Armstrong Number in an Interval?\n"
      ]
    },
    {
      "cell_type": "code",
      "metadata": {
        "id": "5P5iPwFh2IdW",
        "colab": {
          "base_uri": "https://localhost:8080/"
        },
        "outputId": "8d497b73-f28d-456d-d00a-35a834a1c392"
      },
      "source": [
        "lower = int(input(\"Enter lower limit : \"))\n",
        "upper = int(input(\"Enter upper limit : \"))\n",
        "\n",
        "\n",
        "for num in range(lower, upper + 1):\n",
        "\n",
        "   # order of number\n",
        "   order = len(str(num))\n",
        "    \n",
        "   # initialize sum\n",
        "   sum = 0\n",
        "\n",
        "   temp = num\n",
        "   while temp > 0:\n",
        "       digit = temp % 10\n",
        "       sum += digit ** order\n",
        "       temp //= 10\n",
        "\n",
        "   if num == sum:\n",
        "       print(num)"
      ],
      "execution_count": 3,
      "outputs": [
        {
          "output_type": "stream",
          "text": [
            "Enter lower limit : 1\n",
            "Enter upper limit : 10000\n",
            "1\n",
            "2\n",
            "3\n",
            "4\n",
            "5\n",
            "6\n",
            "7\n",
            "8\n",
            "9\n",
            "153\n",
            "370\n",
            "371\n",
            "407\n",
            "1634\n",
            "8208\n",
            "9474\n"
          ],
          "name": "stdout"
        }
      ]
    },
    {
      "cell_type": "markdown",
      "metadata": {
        "id": "K_xVcVOG2XQt"
      },
      "source": [
        "6. Write a Python Program to Find the Sum of Natural Numbers?"
      ]
    },
    {
      "cell_type": "code",
      "metadata": {
        "id": "foDYWbnP2IOz",
        "colab": {
          "base_uri": "https://localhost:8080/"
        },
        "outputId": "d67feccf-2f0d-4019-833a-c00037968cc5"
      },
      "source": [
        "lst = []  \n",
        "n = int(input(\"Enter number of elements : \"))\n",
        "for i in range(0, n):\n",
        "    ele = int(input())\n",
        "    lst.append(ele) # adding the element\n",
        "      \n",
        "print(lst)\n",
        "\n",
        "def sumOfNaturalNos(num):\n",
        "  if num < 0:\n",
        "    print(\"Enter a positive number\")\n",
        "  else:\n",
        "    sum = 0\n",
        "    # use while loop to iterate until zero\n",
        "    print(\"The sum of {} Natural No's is :\" .format(num))\n",
        "    while(num > 0):\n",
        "      sum += num\n",
        "      num -= 1\n",
        "    print(\"{}\" .format(sum))\n",
        "\n",
        "for num in lst:\n",
        "  sumOfNaturalNos(num)"
      ],
      "execution_count": 16,
      "outputs": [
        {
          "output_type": "stream",
          "text": [
            "Enter number of elements : 4\n",
            "1\n",
            "4\n",
            "10\n",
            "16\n",
            "[1, 4, 10, 16]\n",
            "The sum of 1 Natural No's is :\n",
            "1\n",
            "The sum of 4 Natural No's is :\n",
            "10\n",
            "The sum of 10 Natural No's is :\n",
            "55\n",
            "The sum of 16 Natural No's is :\n",
            "136\n"
          ],
          "name": "stdout"
        }
      ]
    }
  ]
}