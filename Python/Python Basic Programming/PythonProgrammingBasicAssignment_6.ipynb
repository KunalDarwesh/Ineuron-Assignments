{
  "nbformat": 4,
  "nbformat_minor": 0,
  "metadata": {
    "colab": {
      "name": "PythonProgrammingBasicAssignment_6.ipynb",
      "provenance": [],
      "collapsed_sections": []
    },
    "kernelspec": {
      "name": "python3",
      "display_name": "Python 3"
    },
    "language_info": {
      "name": "python"
    }
  },
  "cells": [
    {
      "cell_type": "markdown",
      "metadata": {
        "id": "DVTKUO541JX_"
      },
      "source": [
        "1. Write a Python Program to Display Fibonacci Sequence Using Recursion?\n"
      ]
    },
    {
      "cell_type": "code",
      "metadata": {
        "id": "cbOikZk305aY",
        "colab": {
          "base_uri": "https://localhost:8080/"
        },
        "outputId": "dd0a3519-6789-41a4-a7d9-642b28e013c4"
      },
      "source": [
        "def fibonacci_recursive(n):\n",
        "   if n <= 1:\n",
        "       return n\n",
        "   else:\n",
        "       return(fibonacci_recursive(n-1) + fibonacci_recursive(n-2))\n",
        "\n",
        "noOfTerms = int(input(\"Enter the No. of terms:\"))\n",
        "\n",
        "# check if the number of terms is valid\n",
        "if noOfTerms <= 0:\n",
        "   print(\"Plese enter a positive integer\")\n",
        "else:\n",
        "   print(\"Fibonacci sequence is:\")\n",
        "   for i in range(noOfTerms):\n",
        "       print(fibonacci_recursive(i))"
      ],
      "execution_count": null,
      "outputs": [
        {
          "output_type": "stream",
          "text": [
            "Enter the No. of terms:10\n",
            "Fibonacci sequence is:\n",
            "0\n",
            "1\n",
            "1\n",
            "2\n",
            "3\n",
            "5\n",
            "8\n",
            "13\n",
            "21\n",
            "34\n"
          ],
          "name": "stdout"
        }
      ]
    },
    {
      "cell_type": "markdown",
      "metadata": {
        "id": "PUOel-7Q3GCl"
      },
      "source": [
        "2. Write a Python Program to Find Factorial of Number Using Recursion?\n"
      ]
    },
    {
      "cell_type": "code",
      "metadata": {
        "id": "1fYdyCNZ3D_M",
        "colab": {
          "base_uri": "https://localhost:8080/"
        },
        "outputId": "b9818778-479f-4fa3-ab09-e90677d65bb6"
      },
      "source": [
        "def factorial_recursive(n):\n",
        "   if n == 1:\n",
        "       return n\n",
        "   else:\n",
        "       return n*factorial_recursive(n-1)\n",
        "\n",
        "n = int(input(\"Enter the No.:\"))\n",
        "\n",
        "# check if the number is negative\n",
        "if n < 0:\n",
        "   print(\"Sorry, factorial does not exist for negative numbers\")\n",
        "elif n == 0:\n",
        "   print(\"The factorial of 0 is 1\")\n",
        "else:\n",
        "   print(\"The factorial of\", n, \"is\", factorial_recursive(n))"
      ],
      "execution_count": null,
      "outputs": [
        {
          "output_type": "stream",
          "text": [
            "Enter the No.:7\n",
            "The factorial of 7 is 5040\n"
          ],
          "name": "stdout"
        }
      ]
    },
    {
      "cell_type": "markdown",
      "metadata": {
        "id": "WaF9SbT03JEn"
      },
      "source": [
        "3. Write a Python Program to calculate your Body Mass Index?\n"
      ]
    },
    {
      "cell_type": "code",
      "metadata": {
        "id": "NyqgglrQ3FXk",
        "colab": {
          "base_uri": "https://localhost:8080/"
        },
        "outputId": "02f63b35-68eb-4fb2-b535-78312be56b01"
      },
      "source": [
        "def BMI(height, weight):\n",
        "    bmi = weight/(height**2)\n",
        "    return bmi\n",
        "  \n",
        "height = float(input(\"Enter the Your Height(mtrs):\"))\n",
        "weight = float(input(\"Enter the weight(Kgs):\"))  \n",
        "bmi = BMI(height, weight)\n",
        "print(\"The BMI is\", format(bmi), \"so \", end='')\n",
        "  \n",
        "# Conditions to find out BMI category\n",
        "if (bmi < 18.5):\n",
        "    print(\"UNDERWEIGHT --- Eat Some Healthy Food\")\n",
        "  \n",
        "elif ( bmi >= 18.5 and bmi < 24.9):\n",
        "    print(\"HEALTHY --- Maintain \")\n",
        "  \n",
        "elif ( bmi >= 24.9 and bmi < 30):\n",
        "    print(\"OVERWEIGHT --- Try to loose some weight\")\n",
        "  \n",
        "elif ( bmi >= 30 and bmi < 34.9 ):\n",
        "    print(\"Suffering from Class 1 OBESITY ---!!!ALERT!!! Watch your Diet\")\n",
        "\n",
        "elif ( bmi >= 35 and bmi < 39.9 ):\n",
        "    print(\"Suffering from Class 2 OBESITY --- !!!ALERT!!! Watch your Diet and Count macros\")\n",
        "\n",
        "else :\n",
        "    print(\"Suffering from Class 3 OBESITY ---!!!ALERT!!! High chance of heartattack\")"
      ],
      "execution_count": null,
      "outputs": [
        {
          "output_type": "stream",
          "text": [
            "Enter the Your Height(mtrs):1.86\n",
            "Enter the weight(Kgs):86\n",
            "The BMI is 24.858365128916635 so HEALTHY --- Maintain \n"
          ],
          "name": "stdout"
        }
      ]
    },
    {
      "cell_type": "markdown",
      "metadata": {
        "id": "cAWHR2JO3L0A"
      },
      "source": [
        "4. Write a Python Program to calculate the natural logarithm of any number?\n"
      ]
    },
    {
      "cell_type": "code",
      "metadata": {
        "id": "B3Ili3eU3FIV",
        "colab": {
          "base_uri": "https://localhost:8080/"
        },
        "outputId": "011046dc-c031-4b42-f95c-ab8897a1f17f"
      },
      "source": [
        "import math\n",
        "\n",
        "def calc_NaturalLog(n):\n",
        "  x=math.log(n)\n",
        "  print(\"The natural logarithm of {} is : {}\".format(n,x))\n",
        "\n",
        "n=float(input(\"Enter the number:\"))\n",
        "calc_NaturalLog(n)"
      ],
      "execution_count": 23,
      "outputs": [
        {
          "output_type": "stream",
          "text": [
            "Enter the number:14\n",
            "The natural logarithm of 14.0 is : 2.6390573296152584\n"
          ],
          "name": "stdout"
        }
      ]
    },
    {
      "cell_type": "markdown",
      "metadata": {
        "id": "mfh3lsRP3OwF"
      },
      "source": [
        "5. Write a Python Program for cube sum of first n natural numbers?"
      ]
    },
    {
      "cell_type": "code",
      "metadata": {
        "id": "zaZPHGQT3E8j",
        "colab": {
          "base_uri": "https://localhost:8080/"
        },
        "outputId": "44ba26b3-874d-4fa8-9334-c2062a392517"
      },
      "source": [
        "def cube_SumOfSeries(n):\n",
        "    sum = 0\n",
        "    for i in range(1, n+1):\n",
        "        sum +=i*i*i\n",
        "          \n",
        "    return sum\n",
        "  \n",
        "   \n",
        "nterms = int(input(\"Enter the No. of terms:\"))\n",
        "print(\"The Cube Sum of first {} terms is : {}\".format(nterms,cube_SumOfSeries(nterms)))"
      ],
      "execution_count": 26,
      "outputs": [
        {
          "output_type": "stream",
          "text": [
            "Enter the No. of terms:5\n",
            "The Cube Sum of first 5 terms is : 225\n"
          ],
          "name": "stdout"
        }
      ]
    }
  ]
}