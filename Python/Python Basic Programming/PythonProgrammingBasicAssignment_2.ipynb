{
  "nbformat": 4,
  "nbformat_minor": 0,
  "metadata": {
    "colab": {
      "name": "PythonProgrammingBasicAssignment_2.ipynb",
      "provenance": []
    },
    "kernelspec": {
      "name": "python3",
      "display_name": "Python 3"
    },
    "language_info": {
      "name": "python"
    }
  },
  "cells": [
    {
      "cell_type": "markdown",
      "metadata": {
        "id": "vqhLtX3KYtV9"
      },
      "source": [
        "1. Write a Python program to convert kilometers to miles?\n"
      ]
    },
    {
      "cell_type": "code",
      "metadata": {
        "colab": {
          "base_uri": "https://localhost:8080/"
        },
        "id": "qLCiQJzXYUwu",
        "outputId": "f5b68ed3-bd65-4ae6-871f-77a3cbbe948b"
      },
      "source": [
        "ch=int(input((\"Find the conversion\\n1)For km to mile\\n2)For mile to km\\nEnter Your Choice:\\n\")))\n",
        "\n",
        "def kmTomile():\n",
        "  km = float(input(\"Enter value in kilometers: \"))\n",
        "  conversion_factor = 0.621371\n",
        "  miles = km * conversion_factor\n",
        "  print('{} kilometers is equal to {} miles'.format(km,miles) )\n",
        "\n",
        "def mileTokm():\n",
        "  miles = float(input(\"Enter value in miles: \"))\n",
        "  conversion_factor = 1.60934\n",
        "  km = miles * conversion_factor\n",
        "  print('{} miles is equal to {} kilometers'.format(miles,km) )\n",
        "\n",
        "if (ch==1):\n",
        "  kmTomile()\n",
        "elif (ch==2):\n",
        "  mileTokm()\n",
        "else :\n",
        "  print(\"!!! Invalid Choice !!!\")  "
      ],
      "execution_count": null,
      "outputs": [
        {
          "output_type": "stream",
          "text": [
            "Find the conversion\n",
            "1)For km to mile\n",
            "2)For mile to km\n",
            "Enter Your Choice:\n",
            "1\n",
            "Enter value in kilometers: 8\n",
            "8.0 kilometers is equal to 4.970968 miles\n"
          ],
          "name": "stdout"
        }
      ]
    },
    {
      "cell_type": "markdown",
      "metadata": {
        "id": "r5bHsy1uZC9e"
      },
      "source": [
        "2. Write a Python program to convert Celsius to Fahrenheit?\n"
      ]
    },
    {
      "cell_type": "code",
      "metadata": {
        "id": "TaJsSL1uY8xl",
        "colab": {
          "base_uri": "https://localhost:8080/"
        },
        "outputId": "d3f89023-1668-4a3d-e203-950cd403091e"
      },
      "source": [
        "ch=int(input((\"Find the conversion\\n1)For Celsius to Fahrenheit\\n2)For Fahrenheit to Celsius\\nEnter Your Choice:\\n\")))\n",
        "def CtoF():\n",
        "  celsius = float(input(\"Enter temperature in celsius: \"))\n",
        "  fahrenheit = (celsius * 9/5) + 32\n",
        "  print('%.2f Celsius is: %0.2f Fahrenheit' %(celsius, fahrenheit))\n",
        "\n",
        "def FtoC():\n",
        "  fahrenheit = float(input(\"Enter temperature in fahrenheit: \"))\n",
        "  celsius = (fahrenheit - 32) * 5/9\n",
        "  print('%.2f Fahrenheit is: %0.2f Celsius' %(fahrenheit, celsius))\n",
        "\n",
        "if (ch==1):\n",
        "  CtoF()\n",
        "elif (ch==2):\n",
        "  FtoC()\n",
        "else :\n",
        "  print(\"!!! Invalid Choice !!!\")  "
      ],
      "execution_count": 1,
      "outputs": [
        {
          "output_type": "stream",
          "text": [
            "Find the conversion\n",
            "1)For Celsius to Fahrenheit\n",
            "2)For Fahrenheit to Celsius\n",
            "Enter Your Choice:\n",
            "1\n",
            "Enter temperature in celsius: 35.7\n",
            "35.70 Celsius is: 96.26 Fahrenheit\n"
          ],
          "name": "stdout"
        }
      ]
    },
    {
      "cell_type": "markdown",
      "metadata": {
        "id": "gZG44KHUZHA5"
      },
      "source": [
        "3. Write a Python program to display calendar?\n"
      ]
    },
    {
      "cell_type": "code",
      "metadata": {
        "id": "CkhTNfB8Y70V",
        "colab": {
          "base_uri": "https://localhost:8080/"
        },
        "outputId": "9b8b64c2-bd81-4285-a5d6-72daef72da11"
      },
      "source": [
        "import calendar\n",
        "  \n",
        "yy = int(input(\"Enter the Year:\"))\n",
        "mm = int(input(\"Enter the Month:\"))\n",
        "  \n",
        "print(calendar.month(yy, mm))\n",
        "print(calendar.calendar(yy))"
      ],
      "execution_count": 2,
      "outputs": [
        {
          "output_type": "stream",
          "text": [
            "Enter the Year:2021\n",
            "Enter the Month:4\n",
            "     April 2021\n",
            "Mo Tu We Th Fr Sa Su\n",
            "          1  2  3  4\n",
            " 5  6  7  8  9 10 11\n",
            "12 13 14 15 16 17 18\n",
            "19 20 21 22 23 24 25\n",
            "26 27 28 29 30\n",
            "\n",
            "                                  2021\n",
            "\n",
            "      January                   February                   March\n",
            "Mo Tu We Th Fr Sa Su      Mo Tu We Th Fr Sa Su      Mo Tu We Th Fr Sa Su\n",
            "             1  2  3       1  2  3  4  5  6  7       1  2  3  4  5  6  7\n",
            " 4  5  6  7  8  9 10       8  9 10 11 12 13 14       8  9 10 11 12 13 14\n",
            "11 12 13 14 15 16 17      15 16 17 18 19 20 21      15 16 17 18 19 20 21\n",
            "18 19 20 21 22 23 24      22 23 24 25 26 27 28      22 23 24 25 26 27 28\n",
            "25 26 27 28 29 30 31                                29 30 31\n",
            "\n",
            "       April                      May                       June\n",
            "Mo Tu We Th Fr Sa Su      Mo Tu We Th Fr Sa Su      Mo Tu We Th Fr Sa Su\n",
            "          1  2  3  4                      1  2          1  2  3  4  5  6\n",
            " 5  6  7  8  9 10 11       3  4  5  6  7  8  9       7  8  9 10 11 12 13\n",
            "12 13 14 15 16 17 18      10 11 12 13 14 15 16      14 15 16 17 18 19 20\n",
            "19 20 21 22 23 24 25      17 18 19 20 21 22 23      21 22 23 24 25 26 27\n",
            "26 27 28 29 30            24 25 26 27 28 29 30      28 29 30\n",
            "                          31\n",
            "\n",
            "        July                     August                  September\n",
            "Mo Tu We Th Fr Sa Su      Mo Tu We Th Fr Sa Su      Mo Tu We Th Fr Sa Su\n",
            "          1  2  3  4                         1             1  2  3  4  5\n",
            " 5  6  7  8  9 10 11       2  3  4  5  6  7  8       6  7  8  9 10 11 12\n",
            "12 13 14 15 16 17 18       9 10 11 12 13 14 15      13 14 15 16 17 18 19\n",
            "19 20 21 22 23 24 25      16 17 18 19 20 21 22      20 21 22 23 24 25 26\n",
            "26 27 28 29 30 31         23 24 25 26 27 28 29      27 28 29 30\n",
            "                          30 31\n",
            "\n",
            "      October                   November                  December\n",
            "Mo Tu We Th Fr Sa Su      Mo Tu We Th Fr Sa Su      Mo Tu We Th Fr Sa Su\n",
            "             1  2  3       1  2  3  4  5  6  7             1  2  3  4  5\n",
            " 4  5  6  7  8  9 10       8  9 10 11 12 13 14       6  7  8  9 10 11 12\n",
            "11 12 13 14 15 16 17      15 16 17 18 19 20 21      13 14 15 16 17 18 19\n",
            "18 19 20 21 22 23 24      22 23 24 25 26 27 28      20 21 22 23 24 25 26\n",
            "25 26 27 28 29 30 31      29 30                     27 28 29 30 31\n",
            "\n"
          ],
          "name": "stdout"
        }
      ]
    },
    {
      "cell_type": "markdown",
      "metadata": {
        "id": "KDkyM3dkZKkI"
      },
      "source": [
        "4. Write a Python program to solve quadratic equation?\n"
      ]
    },
    {
      "cell_type": "code",
      "metadata": {
        "id": "S-QItJFkY7pv",
        "colab": {
          "base_uri": "https://localhost:8080/"
        },
        "outputId": "5f65c0c1-0843-4732-d45a-9a61bd114c15"
      },
      "source": [
        "#Quadratic equation --- ax2 + bx + c\n",
        "import cmath  \n",
        "a = int(input(\"Enter the coefficient Value(a) for HIGHEST order of x :\"))\n",
        "b = int(input(\"Enter the coefficient Value(b) for SECOND_HIGHEST order of x :\"))\n",
        "c = int(input(\"Enter the coefficient Value(c):\"))\n",
        "print(\"Calculating Root of this Quadratic equation\")\n",
        "\n",
        "\n",
        "def calRoot(a,b,c):\n",
        "  # calculating  the discriminant\n",
        "  dis = (b**2) - (4 * a*c)\n",
        "  # find two results\n",
        "  ans1 = (-b-cmath.sqrt(dis))/(2 * a)\n",
        "  ans2 = (-b + cmath.sqrt(dis))/(2 * a)\n",
        "  # printing the results\n",
        "  print('The roots are')\n",
        "  print(ans1)\n",
        "  print(ans2)\n",
        "\n",
        "calRoot(a,b,c)"
      ],
      "execution_count": 9,
      "outputs": [
        {
          "output_type": "stream",
          "text": [
            "Enter the coefficient Value(a) for HIGHEST order of x :1\n",
            "Enter the coefficient Value(b) for SECOND_HIGHEST order of x :4\n",
            "Enter the coefficient Value(c):2\n",
            "Calculating Root of this Quadratic equation\n",
            "The roots are\n",
            "(-3.414213562373095+0j)\n",
            "(-0.5857864376269049+0j)\n"
          ],
          "name": "stdout"
        }
      ]
    },
    {
      "cell_type": "markdown",
      "metadata": {
        "id": "I3eJ4Ce4ZOrm"
      },
      "source": [
        "5. Write a Python program to swap two variables without temp variable?"
      ]
    },
    {
      "cell_type": "code",
      "metadata": {
        "id": "KAZkejOOY7bv",
        "colab": {
          "base_uri": "https://localhost:8080/"
        },
        "outputId": "b2b1db75-fe4f-4bbd-b065-42bd406aeaaf"
      },
      "source": [
        "def swap(first_num, secon_num):\n",
        "  print(\"Before Swapping: first_num = \", first_num, \", secon_num = \", secon_num)\n",
        "  # Same as a = a + b\n",
        "  first_num = (first_num & secon_num) + (first_num | secon_num)\n",
        " \n",
        "  # Same as b = a - b\n",
        "  secon_num = first_num + (~secon_num) + 1\n",
        " \n",
        "  # Same as a = a - b\n",
        "  first_num = first_num + (~secon_num) + 1\n",
        " \n",
        "  print(\"After Swapping: first_num = \", first_num, \", secon_num = \", secon_num)\n",
        " \n",
        " \n",
        "first_num = int(input(\"Enter the First no:\"))\n",
        "secon_num = int(input(\"Enter the Second no:\"))\n",
        " \n",
        "# Function call\n",
        "swap(first_num, secon_num)"
      ],
      "execution_count": 5,
      "outputs": [
        {
          "output_type": "stream",
          "text": [
            "Enter the First no:12\n",
            "Enter the Second no:5\n",
            "Before Swapping: first_num =  12 , secon_num =  5\n",
            "After Swapping: first_num =  5 , secon_num =  12\n"
          ],
          "name": "stdout"
        }
      ]
    }
  ]
}